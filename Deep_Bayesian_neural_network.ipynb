{
  "cells": [
    {
      "cell_type": "code",
      "execution_count": null,
      "id": "de82917b",
      "metadata": {
        "scrolled": true,
        "id": "de82917b"
      },
      "outputs": [],
      "source": [
        "import numpy as np\n",
        "from sklearn import datasets\n",
        "\n",
        "import torch\n",
        "import torch.nn as nn\n",
        "import torch.optim as optim\n",
        "\n",
        "import pandas as pd\n",
        "\n",
        "import torchbnn as bnn\n",
        "import matplotlib.pyplot as plt"
      ]
    },
    {
      "cell_type": "code",
      "execution_count": null,
      "id": "dee852ea",
      "metadata": {
        "id": "dee852ea",
        "outputId": "c1a48a5e-e841-4734-bc5e-bb0a43f5b307"
      },
      "outputs": [
        {
          "data": {
            "text/html": [
              "<div>\n",
              "<style scoped>\n",
              "    .dataframe tbody tr th:only-of-type {\n",
              "        vertical-align: middle;\n",
              "    }\n",
              "\n",
              "    .dataframe tbody tr th {\n",
              "        vertical-align: top;\n",
              "    }\n",
              "\n",
              "    .dataframe thead th {\n",
              "        text-align: right;\n",
              "    }\n",
              "</style>\n",
              "<table border=\"1\" class=\"dataframe\">\n",
              "  <thead>\n",
              "    <tr style=\"text-align: right;\">\n",
              "      <th></th>\n",
              "      <th>tau1</th>\n",
              "      <th>tau2</th>\n",
              "      <th>tau3</th>\n",
              "      <th>tau4</th>\n",
              "      <th>p1</th>\n",
              "      <th>p2</th>\n",
              "      <th>p3</th>\n",
              "      <th>p4</th>\n",
              "      <th>g1</th>\n",
              "      <th>g2</th>\n",
              "      <th>g3</th>\n",
              "      <th>g4</th>\n",
              "      <th>stabf</th>\n",
              "    </tr>\n",
              "  </thead>\n",
              "  <tbody>\n",
              "    <tr>\n",
              "      <th>0</th>\n",
              "      <td>2.959060</td>\n",
              "      <td>3.079885</td>\n",
              "      <td>8.381025</td>\n",
              "      <td>9.780754</td>\n",
              "      <td>3.763085</td>\n",
              "      <td>-0.782604</td>\n",
              "      <td>-1.257395</td>\n",
              "      <td>-1.723086</td>\n",
              "      <td>0.650456</td>\n",
              "      <td>0.859578</td>\n",
              "      <td>0.887445</td>\n",
              "      <td>0.958034</td>\n",
              "      <td>0</td>\n",
              "    </tr>\n",
              "    <tr>\n",
              "      <th>1</th>\n",
              "      <td>9.304097</td>\n",
              "      <td>4.902524</td>\n",
              "      <td>3.047541</td>\n",
              "      <td>1.369357</td>\n",
              "      <td>5.067812</td>\n",
              "      <td>-1.940058</td>\n",
              "      <td>-1.872742</td>\n",
              "      <td>-1.255012</td>\n",
              "      <td>0.413441</td>\n",
              "      <td>0.862414</td>\n",
              "      <td>0.562139</td>\n",
              "      <td>0.781760</td>\n",
              "      <td>1</td>\n",
              "    </tr>\n",
              "    <tr>\n",
              "      <th>2</th>\n",
              "      <td>8.971707</td>\n",
              "      <td>8.848428</td>\n",
              "      <td>3.046479</td>\n",
              "      <td>1.214518</td>\n",
              "      <td>3.405158</td>\n",
              "      <td>-1.207456</td>\n",
              "      <td>-1.277210</td>\n",
              "      <td>-0.920492</td>\n",
              "      <td>0.163041</td>\n",
              "      <td>0.766689</td>\n",
              "      <td>0.839444</td>\n",
              "      <td>0.109853</td>\n",
              "      <td>0</td>\n",
              "    </tr>\n",
              "    <tr>\n",
              "      <th>3</th>\n",
              "      <td>0.716415</td>\n",
              "      <td>7.669600</td>\n",
              "      <td>4.486641</td>\n",
              "      <td>2.340563</td>\n",
              "      <td>3.963791</td>\n",
              "      <td>-1.027473</td>\n",
              "      <td>-1.938944</td>\n",
              "      <td>-0.997374</td>\n",
              "      <td>0.446209</td>\n",
              "      <td>0.976744</td>\n",
              "      <td>0.929381</td>\n",
              "      <td>0.362718</td>\n",
              "      <td>0</td>\n",
              "    </tr>\n",
              "    <tr>\n",
              "      <th>4</th>\n",
              "      <td>3.134112</td>\n",
              "      <td>7.608772</td>\n",
              "      <td>4.943759</td>\n",
              "      <td>9.857573</td>\n",
              "      <td>3.525811</td>\n",
              "      <td>-1.125531</td>\n",
              "      <td>-1.845975</td>\n",
              "      <td>-0.554305</td>\n",
              "      <td>0.797110</td>\n",
              "      <td>0.455450</td>\n",
              "      <td>0.656947</td>\n",
              "      <td>0.820923</td>\n",
              "      <td>0</td>\n",
              "    </tr>\n",
              "    <tr>\n",
              "      <th>...</th>\n",
              "      <td>...</td>\n",
              "      <td>...</td>\n",
              "      <td>...</td>\n",
              "      <td>...</td>\n",
              "      <td>...</td>\n",
              "      <td>...</td>\n",
              "      <td>...</td>\n",
              "      <td>...</td>\n",
              "      <td>...</td>\n",
              "      <td>...</td>\n",
              "      <td>...</td>\n",
              "      <td>...</td>\n",
              "      <td>...</td>\n",
              "    </tr>\n",
              "    <tr>\n",
              "      <th>59995</th>\n",
              "      <td>2.930406</td>\n",
              "      <td>2.376523</td>\n",
              "      <td>9.487627</td>\n",
              "      <td>6.187797</td>\n",
              "      <td>3.343416</td>\n",
              "      <td>-1.449106</td>\n",
              "      <td>-0.658054</td>\n",
              "      <td>-1.236256</td>\n",
              "      <td>0.601709</td>\n",
              "      <td>0.813512</td>\n",
              "      <td>0.779642</td>\n",
              "      <td>0.608385</td>\n",
              "      <td>0</td>\n",
              "    </tr>\n",
              "    <tr>\n",
              "      <th>59996</th>\n",
              "      <td>3.392299</td>\n",
              "      <td>2.954947</td>\n",
              "      <td>1.274827</td>\n",
              "      <td>6.894759</td>\n",
              "      <td>4.349512</td>\n",
              "      <td>-0.952437</td>\n",
              "      <td>-1.663661</td>\n",
              "      <td>-1.733414</td>\n",
              "      <td>0.502079</td>\n",
              "      <td>0.285880</td>\n",
              "      <td>0.567242</td>\n",
              "      <td>0.366120</td>\n",
              "      <td>1</td>\n",
              "    </tr>\n",
              "    <tr>\n",
              "      <th>59997</th>\n",
              "      <td>2.364034</td>\n",
              "      <td>8.776391</td>\n",
              "      <td>2.842030</td>\n",
              "      <td>1.008906</td>\n",
              "      <td>4.299976</td>\n",
              "      <td>-0.943884</td>\n",
              "      <td>-1.380719</td>\n",
              "      <td>-1.975373</td>\n",
              "      <td>0.487838</td>\n",
              "      <td>0.149286</td>\n",
              "      <td>0.986505</td>\n",
              "      <td>0.145984</td>\n",
              "      <td>1</td>\n",
              "    </tr>\n",
              "    <tr>\n",
              "      <th>59998</th>\n",
              "      <td>9.631511</td>\n",
              "      <td>2.757071</td>\n",
              "      <td>3.994398</td>\n",
              "      <td>7.821347</td>\n",
              "      <td>2.514755</td>\n",
              "      <td>-0.649915</td>\n",
              "      <td>-0.966330</td>\n",
              "      <td>-0.898510</td>\n",
              "      <td>0.365246</td>\n",
              "      <td>0.889118</td>\n",
              "      <td>0.587558</td>\n",
              "      <td>0.818391</td>\n",
              "      <td>0</td>\n",
              "    </tr>\n",
              "    <tr>\n",
              "      <th>59999</th>\n",
              "      <td>6.530527</td>\n",
              "      <td>4.349695</td>\n",
              "      <td>6.781790</td>\n",
              "      <td>8.673138</td>\n",
              "      <td>3.492807</td>\n",
              "      <td>-1.532193</td>\n",
              "      <td>-1.390285</td>\n",
              "      <td>-0.570329</td>\n",
              "      <td>0.073056</td>\n",
              "      <td>0.378761</td>\n",
              "      <td>0.505441</td>\n",
              "      <td>0.942631</td>\n",
              "      <td>0</td>\n",
              "    </tr>\n",
              "  </tbody>\n",
              "</table>\n",
              "<p>60000 rows × 13 columns</p>\n",
              "</div>"
            ],
            "text/plain": [
              "           tau1      tau2      tau3      tau4        p1        p2        p3  \\\n",
              "0      2.959060  3.079885  8.381025  9.780754  3.763085 -0.782604 -1.257395   \n",
              "1      9.304097  4.902524  3.047541  1.369357  5.067812 -1.940058 -1.872742   \n",
              "2      8.971707  8.848428  3.046479  1.214518  3.405158 -1.207456 -1.277210   \n",
              "3      0.716415  7.669600  4.486641  2.340563  3.963791 -1.027473 -1.938944   \n",
              "4      3.134112  7.608772  4.943759  9.857573  3.525811 -1.125531 -1.845975   \n",
              "...         ...       ...       ...       ...       ...       ...       ...   \n",
              "59995  2.930406  2.376523  9.487627  6.187797  3.343416 -1.449106 -0.658054   \n",
              "59996  3.392299  2.954947  1.274827  6.894759  4.349512 -0.952437 -1.663661   \n",
              "59997  2.364034  8.776391  2.842030  1.008906  4.299976 -0.943884 -1.380719   \n",
              "59998  9.631511  2.757071  3.994398  7.821347  2.514755 -0.649915 -0.966330   \n",
              "59999  6.530527  4.349695  6.781790  8.673138  3.492807 -1.532193 -1.390285   \n",
              "\n",
              "             p4        g1        g2        g3        g4  stabf  \n",
              "0     -1.723086  0.650456  0.859578  0.887445  0.958034      0  \n",
              "1     -1.255012  0.413441  0.862414  0.562139  0.781760      1  \n",
              "2     -0.920492  0.163041  0.766689  0.839444  0.109853      0  \n",
              "3     -0.997374  0.446209  0.976744  0.929381  0.362718      0  \n",
              "4     -0.554305  0.797110  0.455450  0.656947  0.820923      0  \n",
              "...         ...       ...       ...       ...       ...    ...  \n",
              "59995 -1.236256  0.601709  0.813512  0.779642  0.608385      0  \n",
              "59996 -1.733414  0.502079  0.285880  0.567242  0.366120      1  \n",
              "59997 -1.975373  0.487838  0.149286  0.986505  0.145984      1  \n",
              "59998 -0.898510  0.365246  0.889118  0.587558  0.818391      0  \n",
              "59999 -0.570329  0.073056  0.378761  0.505441  0.942631      0  \n",
              "\n",
              "[60000 rows x 13 columns]"
            ]
          },
          "execution_count": 32,
          "metadata": {},
          "output_type": "execute_result"
        }
      ],
      "source": [
        "dataset = pd.read_csv('smart_grid_stability_augmented.csv')\n",
        "dataset.replace({'stabf': {'unstable':0, 'stable':1}}, inplace=True)\n",
        "dataset.drop(columns=['stab'])"
      ]
    },
    {
      "cell_type": "code",
      "execution_count": null,
      "id": "6df1093f",
      "metadata": {
        "id": "6df1093f"
      },
      "outputs": [],
      "source": [
        "from sklearn.preprocessing import StandardScaler"
      ]
    },
    {
      "cell_type": "code",
      "execution_count": null,
      "id": "af34fa3e",
      "metadata": {
        "id": "af34fa3e"
      },
      "outputs": [],
      "source": [
        "x = dataset.iloc[:, :12]\n",
        "scaler = StandardScaler()\n",
        "# transform data\n",
        "scaled = scaler.fit_transform(x)\n",
        "#x = (x-x.min())/(x.max()-x.min())\n",
        "y = dataset['stabf']\n",
        "x = x.to_numpy()\n",
        "y = y.to_numpy()\n",
        "X_test= x[len(x)-1000:len(x)]\n",
        "t_test=y[len(x)-1000:len(x)]\n",
        "\n",
        "X_val= x[len(x)-2000:len(x)-1000]\n",
        "y_val=y[len(x)-2000:len(x)-1000]"
      ]
    },
    {
      "cell_type": "code",
      "execution_count": null,
      "id": "995f760c",
      "metadata": {
        "id": "995f760c"
      },
      "outputs": [],
      "source": [
        "x_train=torch.tensor(x[0:50000], dtype=torch.float)\n",
        "y_train=torch.from_numpy(y[0:50000]).long()\n",
        "\n",
        "x_test=torch.tensor(X_test, dtype=torch.float)\n",
        "y_test=torch.from_numpy(t_test).long() \n",
        "\n",
        "x_val=torch.tensor(X_val, dtype=torch.float)\n",
        "y_val=torch.from_numpy(y_val).long()"
      ]
    },
    {
      "cell_type": "code",
      "execution_count": null,
      "id": "750a7a76",
      "metadata": {
        "id": "750a7a76"
      },
      "outputs": [],
      "source": [
        "model = nn.Sequential(\n",
        "    bnn.BayesLinear(prior_mu=0, prior_sigma=0.1, in_features=12, out_features=200),\n",
        "    nn.ReLU(),\n",
        "    bnn.BayesLinear(prior_mu=0, prior_sigma=0.1, in_features=200, out_features=100),\n",
        "    nn.ReLU(),\n",
        "     bnn.BayesLinear(prior_mu=0, prior_sigma=0.1, in_features=100, out_features=50),\n",
        "    nn.ReLU(),\n",
        "    bnn.BayesLinear(prior_mu=0, prior_sigma=0.1, in_features=50, out_features=2),\n",
        ")"
      ]
    },
    {
      "cell_type": "code",
      "execution_count": null,
      "id": "b4207ae3",
      "metadata": {
        "id": "b4207ae3"
      },
      "outputs": [],
      "source": [
        "\n",
        "ce_loss = nn.CrossEntropyLoss()\n",
        "kl_loss = bnn.BKLLoss(reduction='mean', last_layer_only=False)\n",
        "kl_weight = 0.01\n",
        "\n",
        "optimizer = optim.Adam(model.parameters(), lr=0.005)"
      ]
    },
    {
      "cell_type": "code",
      "execution_count": null,
      "id": "0d732a58",
      "metadata": {
        "id": "0d732a58"
      },
      "outputs": [],
      "source": [
        "kl_weight = 0.1"
      ]
    },
    {
      "cell_type": "code",
      "execution_count": null,
      "id": "7703830a",
      "metadata": {
        "id": "7703830a"
      },
      "outputs": [],
      "source": [
        "# for step in range(1000):\n",
        "#     pre = model(x_train)\n",
        "#     ce = ce_loss(pre, y_train)\n",
        "#     kl = kl_loss(model)\n",
        "#     cost = ce + kl_weight*kl\n",
        "    \n",
        "#     optimizer.zero_grad()\n",
        "#     cost.backward()\n",
        "#     optimizer.step()\n",
        "    \n",
        "# _, predicted = torch.max(pre.data, 1)\n",
        "# total = y_train.size(0)\n",
        "# correct = (predicted == y_train).sum()\n",
        "# print('- Accuracy: %f %%' % (100 * float(correct) / total))\n",
        "# print('- CE : %2.2f, KL : %2.2f' % (ce.item(), kl.item()))"
      ]
    },
    {
      "cell_type": "markdown",
      "id": "02288e40",
      "metadata": {
        "id": "02288e40"
      },
      "source": [
        "# Train"
      ]
    },
    {
      "cell_type": "code",
      "execution_count": null,
      "id": "7fa22770",
      "metadata": {
        "id": "7fa22770"
      },
      "outputs": [],
      "source": [
        "epochs=3000\n",
        "loss =torch.tensor([])\n",
        "KL = torch.tensor([])\n",
        "Cost = torch.tensor([])\n",
        "\n",
        "loss_val =torch.tensor([])\n",
        "KL_val = torch.tensor([])\n",
        "Cost_val = torch.tensor([])\n",
        "\n",
        "train_acc = torch.tensor([])\n",
        "val_acc = torch.tensor([])\n",
        "\n",
        "\n",
        "for step in range(epochs):\n",
        "    pre = model(x_train)\n",
        "    ce = ce_loss(pre, y_train)\n",
        "    kl = kl_loss(model)\n",
        "    cost = ce + kl_weight*kl\n",
        "    \n",
        "    optimizer.zero_grad()\n",
        "    cost.backward()\n",
        "    optimizer.step()\n",
        "    \n",
        "    loss = torch.cat((loss,torch.tensor([ce.item()])),0)\n",
        "    KL = torch.cat((KL,torch.tensor([kl.item()])),0)\n",
        "    Cost = torch.cat((Cost,torch.tensor([cost.item()])),0)\n",
        "    \n",
        "    pre_val = model(x_val)\n",
        "    ce_val = ce_loss(pre_val, y_val)\n",
        "    kl_val = kl_loss(model)\n",
        "    cost_val = ce_val + kl_weight*kl_val\n",
        "    \n",
        "    loss_val = torch.cat((loss_val,torch.tensor([ce_val.item()])),0)\n",
        "    KL_val = torch.cat((KL_val,torch.tensor([kl_val.item()])),0)\n",
        "    Cost_val = torch.cat((Cost_val,torch.tensor([cost_val.item()])),0)\n",
        "    \n",
        "    #accuracy check\n",
        "    \n",
        "    #train accuracy\n",
        "    _, predicted = torch.max(pre.data, 1)\n",
        "    total = y_train.size(0)\n",
        "    correct = (predicted == y_train).sum()\n",
        "    train_acc = torch.cat((train_acc,torch.tensor([100 * float(correct) / total])),0)\n",
        "    \n",
        "    #val accuracy\n",
        "    _, predicted = torch.max(pre_val.data, 1)\n",
        "    total = y_val.size(0)\n",
        "    correct = (predicted == y_val).sum()\n",
        "    val_acc = torch.cat((val_acc,torch.tensor([100 * float(correct) / total])),0)\n",
        "    \n",
        "    "
      ]
    },
    {
      "cell_type": "code",
      "execution_count": null,
      "id": "a9c48d4c",
      "metadata": {
        "id": "a9c48d4c"
      },
      "outputs": [],
      "source": [
        "epoc =torch.tensor( np.arange(1,epochs+1))"
      ]
    },
    {
      "cell_type": "code",
      "execution_count": null,
      "id": "34af9a7b",
      "metadata": {
        "id": "34af9a7b",
        "outputId": "46541118-fa1c-49cc-d8fe-c150956f34c5"
      },
      "outputs": [
        {
          "data": {
            "image/png": "[encoded data removed]",
            "text/plain": [
              "<Figure size 432x288 with 1 Axes>"
            ]
          },
          "metadata": {
            "needs_background": "light"
          },
          "output_type": "display_data"
        },
        {
          "data": {
            "image/png": "[encoded data removed]",
            "text/plain": [
              "<Figure size 432x288 with 1 Axes>"
            ]
          },
          "metadata": {
            "needs_background": "light"
          },
          "output_type": "display_data"
        },
        {
          "data": {
            "image/png": "[encoded data removed]",
            "text/plain": [
              "<Figure size 432x288 with 1 Axes>"
            ]
          },
          "metadata": {
            "needs_background": "light"
          },
          "output_type": "display_data"
        },
        {
          "data": {
            "image/png": "[encoded data removed]",
            "text/plain": [
              "<Figure size 432x288 with 1 Axes>"
            ]
          },
          "metadata": {
            "needs_background": "light"
          },
          "output_type": "display_data"
        }
      ],
      "source": [
        "\n",
        "plt.plot(epoc,loss,label='train_loss')\n",
        "plt.plot(epoc,loss_val,label='val_loss')\n",
        "plt.xlabel('Epochs',size=14)\n",
        "plt.ylabel('Loss function',size=14)\n",
        "plt.legend()\n",
        "plt.show()\n",
        "plt.plot(epoc,train_acc,label='acc_val')\n",
        "plt.plot(epoc,val_acc,label='acc_train')\n",
        "plt.xlabel('Epochs',size=14)\n",
        "plt.ylabel('Accuracy',size=14)\n",
        "plt.legend()\n",
        "plt.show()\n",
        "\n",
        "plt.plot(epoc,Cost_val,label='Cost_val')\n",
        "plt.plot(epoc,Cost,label='Cost_train')\n",
        "plt.xlabel('Epochs',size=14)\n",
        "plt.ylabel('Cost',size=14)\n",
        "plt.legend()\n",
        "plt.show()\n",
        "\n",
        "plt.plot(epoc,KL_val,label='KL_val')\n",
        "plt.plot(epoc,KL,label='KL_train')\n",
        "plt.xlabel('Epochs',size=14)\n",
        "plt.ylabel('KL',size=14)\n",
        "plt.legend()\n",
        "plt.show()"
      ]
    },
    {
      "cell_type": "markdown",
      "id": "bdca6f46",
      "metadata": {
        "id": "bdca6f46"
      },
      "source": [
        "# Test Model"
      ]
    },
    {
      "cell_type": "code",
      "execution_count": null,
      "id": "40819b07",
      "metadata": {
        "id": "40819b07",
        "outputId": "1062b972-698c-45ec-ad09-22abf99852a6"
      },
      "outputs": [
        {
          "name": "stdout",
          "output_type": "stream",
          "text": [
            "- Accuracy: 90.700000 %\n",
            "- CE : 0.25, KL : 0.52\n"
          ]
        }
      ],
      "source": [
        "pre_test = model(x_test)\n",
        "_, predicted = torch.max(pre_test.data, 1)\n",
        "total = y_test.size(0)\n",
        "correct = (predicted == y_test).sum()\n",
        "print('- Accuracy: %f %%' % (100 * float(correct) / total))\n",
        "print('- CE : %2.2f, KL : %2.2f' % (ce.item(), kl.item()))"
      ]
    },
    {
      "cell_type": "code",
      "execution_count": null,
      "id": "21ac4d9b",
      "metadata": {
        "id": "21ac4d9b"
      },
      "outputs": [],
      "source": [
        "from sklearn.metrics import accuracy_score, classification_report, confusion_matrix\n",
        "import seaborn as sns"
      ]
    },
    {
      "cell_type": "code",
      "execution_count": null,
      "id": "e3723953",
      "metadata": {
        "id": "e3723953",
        "outputId": "1bced618-3d51-4b39-ce1c-198f4786acfd"
      },
      "outputs": [
        {
          "name": "stdout",
          "output_type": "stream",
          "text": [
            "Classification Report:\n",
            "              precision    recall  f1-score   support\n",
            "\n",
            "           1     0.9199    0.8245    0.8696       376\n",
            "           0     0.9005    0.9567    0.9277       624\n",
            "\n",
            "    accuracy                         0.9070      1000\n",
            "   macro avg     0.9102    0.8906    0.8987      1000\n",
            "weighted avg     0.9078    0.9070    0.9059      1000\n",
            "\n"
          ]
        },
        {
          "data": {
            "text/plain": [
              "[Text(0, 0.5, 'STABLE'), Text(0, 1.5, 'UNSTABLE')]"
            ]
          },
          "execution_count": 45,
          "metadata": {},
          "output_type": "execute_result"
        },
        {
          "data": {
            "image/png": "[encoded data removed]",
            "text/plain": [
              "<Figure size 432x288 with 2 Axes>"
            ]
          },
          "metadata": {
            "needs_background": "light"
          },
          "output_type": "display_data"
        }
      ],
      "source": [
        "print('Classification Report:')\n",
        "\n",
        "print(classification_report(y_test, predicted, labels=[1,0], digits=4))       \n",
        "cm_det = confusion_matrix(y_test, predicted)\n",
        "ax= plt.subplot()\n",
        "sns.heatmap(cm_det, annot=True, ax = ax, cmap='Blues', fmt=\"d\")\n",
        "ax.set_title('Confusion Matrix')\n",
        "ax.set_xlabel('Predicted Labels')\n",
        "ax.set_ylabel('True Labels')\n",
        "\n",
        "ax.xaxis.set_ticklabels(['STABLE', 'UNSTABLE'])\n",
        "ax.yaxis.set_ticklabels(['STABLE', 'UNSTABLE'])"
      ]
    },
    {
      "cell_type": "code",
      "execution_count": null,
      "id": "642ab973",
      "metadata": {
        "id": "642ab973"
      },
      "outputs": [],
      "source": [
        ""
      ]
    }
  ],
  "metadata": {
    "kernelspec": {
      "display_name": "Python 3",
      "language": "python",
      "name": "python3"
    },
    "language_info": {
      "codemirror_mode": {
        "name": "ipython",
        "version": 3
      },
      "file_extension": ".py",
      "mimetype": "text/x-python",
      "name": "python",
      "nbconvert_exporter": "python",
      "pygments_lexer": "ipython3",
      "version": "3.8.8"
    },
    "colab": {
      "name": "Deep-Bayesian-neural-network.ipynb",
      "provenance": []
    }
  },
  "nbformat": 4,
  "nbformat_minor": 5
}